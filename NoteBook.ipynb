{
  "cells": [
    {
      "cell_type": "markdown",
      "metadata": {
        "id": "H9wADwK78DCz"
      },
      "source": [
        "# Proyek Analisis Data: [Bike Sharing DataSet]\n",
        "- **Nama:** [M. HAFIS AFRIZAL]\n",
        "- **Email:** [hafisafrizal10@gmail.com]\n",
        "- **ID Dicoding:** [hafis_afriz2l]"
      ]
    },
    {
      "cell_type": "markdown",
      "metadata": {
        "id": "eE0raob58DC0"
      },
      "source": [
        "## Menentukan Pertanyaan Bisnis"
      ]
    },
    {
      "cell_type": "markdown",
      "metadata": {
        "id": "GmQeQ5YF8DC0"
      },
      "source": [
        "- Pertanyaan 1 :\n",
        "Bagaimana kondisi cuaca memengaruhi rata-rata jumlah penyewaan sepeda per hari?\n",
        "\n",
        "- Pertanyaan 2 :\n",
        "Apakah penyewaan sepeda lebih tinggi di hari kerja dibandingkan akhir pekan?"
      ]
    },
    {
      "cell_type": "markdown",
      "metadata": {
        "id": "H-z4QGlO8DC1"
      },
      "source": [
        "## Import Semua Packages/Library yang Digunakan"
      ]
    },
    {
      "cell_type": "code",
      "execution_count": null,
      "metadata": {
        "id": "FVYwaObI8DC1"
      },
      "outputs": [],
      "source": [
        "# Import library (jika belum ada di sel sebelumnya)\n",
        "import pandas as pd\n",
        "import numpy as np\n",
        "import matplotlib.pyplot as plt\n",
        "import seaborn as sns"
      ]
    },
    {
      "cell_type": "markdown",
      "metadata": {
        "id": "h_Sh51Xy8DC1"
      },
      "source": [
        "## Data Wrangling"
      ]
    },
    {
      "cell_type": "markdown",
      "metadata": {
        "id": "sXU2GBYu8DC1"
      },
      "source": [
        "### Gathering Data"
      ]
    },
    {
      "cell_type": "code",
      "execution_count": null,
      "metadata": {
        "id": "zjCBk1BI8DC1",
        "outputId": "a62cc4eb-8eea-43cd-9b20-23769f4b5343",
        "colab": {
          "base_uri": "https://localhost:8080/"
        }
      },
      "outputs": [
        {
          "output_type": "stream",
          "name": "stdout",
          "text": [
            "5 Baris Pertama Data:\n",
            "   instant      dteday  season  yr  mnth  holiday  weekday  workingday  \\\n",
            "0        1  2011-01-01       1   0     1        0        6           0   \n",
            "1        2  2011-01-02       1   0     1        0        0           0   \n",
            "2        3  2011-01-03       1   0     1        0        1           1   \n",
            "3        4  2011-01-04       1   0     1        0        2           1   \n",
            "4        5  2011-01-05       1   0     1        0        3           1   \n",
            "\n",
            "   weathersit      temp     atemp       hum  windspeed  casual  registered  \\\n",
            "0           2  0.344167  0.363625  0.805833   0.160446     331         654   \n",
            "1           2  0.363478  0.353739  0.696087   0.248539     131         670   \n",
            "2           1  0.196364  0.189405  0.437273   0.248309     120        1229   \n",
            "3           1  0.200000  0.212122  0.590435   0.160296     108        1454   \n",
            "4           1  0.226957  0.229270  0.436957   0.186900      82        1518   \n",
            "\n",
            "    cnt  \n",
            "0   985  \n",
            "1   801  \n",
            "2  1349  \n",
            "3  1562  \n",
            "4  1600  \n"
          ]
        }
      ],
      "source": [
        "# Gathering Data: Memuat dataset\n",
        "df = pd.read_csv('/content/day.csv')\n",
        "print(\"5 Baris Pertama Data:\")\n",
        "print(df.head())"
      ]
    },
    {
      "cell_type": "markdown",
      "source": [
        "**Insight:**\n",
        "- Dataset berhasil dimuat dengan 731 entri (baris), yang menunjukkan data mencakup penyewaan sepeda selama dua tahun (2011-2012). Kolom seperti cnt (jumlah penyewaan), weathersit (cuaca), dan weekday (hari) akan jadi fokus analisis."
      ],
      "metadata": {
        "id": "MMi6xGaDkbCi"
      }
    },
    {
      "cell_type": "markdown",
      "metadata": {
        "id": "FHSiqaZp8DC1"
      },
      "source": [
        "### Assessing Data"
      ]
    },
    {
      "cell_type": "code",
      "source": [
        "# Assessing Data: Cek informasi dataset\n",
        "print(\"\\nInformasi Dataset:\")\n",
        "print(df.info())\n",
        "print(\"\\nJumlah Missing Value:\")\n",
        "print(df.isnull().sum())"
      ],
      "metadata": {
        "id": "ax-3tEjc9Cj1",
        "outputId": "f9acc135-1f5a-445e-a152-e3dfc1c219f6",
        "colab": {
          "base_uri": "https://localhost:8080/"
        }
      },
      "execution_count": null,
      "outputs": [
        {
          "output_type": "stream",
          "name": "stdout",
          "text": [
            "\n",
            "Informasi Dataset:\n",
            "<class 'pandas.core.frame.DataFrame'>\n",
            "RangeIndex: 731 entries, 0 to 730\n",
            "Data columns (total 16 columns):\n",
            " #   Column      Non-Null Count  Dtype  \n",
            "---  ------      --------------  -----  \n",
            " 0   instant     731 non-null    int64  \n",
            " 1   dteday      731 non-null    object \n",
            " 2   season      731 non-null    int64  \n",
            " 3   yr          731 non-null    int64  \n",
            " 4   mnth        731 non-null    int64  \n",
            " 5   holiday     731 non-null    int64  \n",
            " 6   weekday     731 non-null    int64  \n",
            " 7   workingday  731 non-null    int64  \n",
            " 8   weathersit  731 non-null    int64  \n",
            " 9   temp        731 non-null    float64\n",
            " 10  atemp       731 non-null    float64\n",
            " 11  hum         731 non-null    float64\n",
            " 12  windspeed   731 non-null    float64\n",
            " 13  casual      731 non-null    int64  \n",
            " 14  registered  731 non-null    int64  \n",
            " 15  cnt         731 non-null    int64  \n",
            "dtypes: float64(4), int64(11), object(1)\n",
            "memory usage: 91.5+ KB\n",
            "None\n",
            "\n",
            "Jumlah Missing Value:\n",
            "instant       0\n",
            "dteday        0\n",
            "season        0\n",
            "yr            0\n",
            "mnth          0\n",
            "holiday       0\n",
            "weekday       0\n",
            "workingday    0\n",
            "weathersit    0\n",
            "temp          0\n",
            "atemp         0\n",
            "hum           0\n",
            "windspeed     0\n",
            "casual        0\n",
            "registered    0\n",
            "cnt           0\n",
            "dtype: int64\n"
          ]
        }
      ]
    },
    {
      "cell_type": "markdown",
      "source": [
        "**Insight:**\n",
        "- Tidak ada missing value di dataset (semua kolom memiliki 731 entri non-null), sehingga data cukup lengkap untuk analisis tanpa perlu imputasi. Kolom dteday awalnya bertipe object (string) dan perlu diubah ke datetime untuk analisis waktu.\n"
      ],
      "metadata": {
        "id": "7dtxhAPrkhPL"
      }
    },
    {
      "cell_type": "markdown",
      "metadata": {
        "id": "EhN5R4hr8DC1"
      },
      "source": [
        "### Cleaning Data"
      ]
    },
    {
      "cell_type": "code",
      "source": [
        "# Cleaning Data: Preprocessing\n",
        "df['dteday'] = pd.to_datetime(df['dteday'])\n",
        "weather_map = {1: 'Cerah', 2: 'Berkabut', 3: 'Hujan Ringan', 4: 'Hujan Berat'}\n",
        "df['weather_desc'] = df['weathersit'].map(weather_map)\n",
        "df['is_weekend'] = df['weekday'].apply(lambda x: 'Weekend' if x >= 5 else 'Weekday')\n",
        "print(\"\\nData Setelah Preprocessing:\")\n",
        "print(df[['dteday', 'weather_desc', 'is_weekend', 'cnt']].head())"
      ],
      "metadata": {
        "id": "jVnYpprE9Evz",
        "outputId": "7b7def06-ae69-4f86-c280-df1e4b9dd2ae",
        "colab": {
          "base_uri": "https://localhost:8080/"
        }
      },
      "execution_count": null,
      "outputs": [
        {
          "output_type": "stream",
          "name": "stdout",
          "text": [
            "\n",
            "Data Setelah Preprocessing:\n",
            "      dteday weather_desc is_weekend   cnt\n",
            "0 2011-01-01     Berkabut    Weekend   985\n",
            "1 2011-01-02     Berkabut    Weekday   801\n",
            "2 2011-01-03        Cerah    Weekday  1349\n",
            "3 2011-01-04        Cerah    Weekday  1562\n",
            "4 2011-01-05        Cerah    Weekday  1600\n"
          ]
        }
      ]
    },
    {
      "cell_type": "markdown",
      "source": [
        "**Insight:**\n",
        "- Setelah preprocessing, data lebih siap untuk analisis dengan tambahan kolom weather_desc yang mempermudah interpretasi cuaca dan is_weekend yang memungkinkan perbandingan hari kerja vs akhir pekan. Nilai awal cnt bervariasi (misalnya, 985 hingga 1600 di 5 baris pertama), menunjukkan adanya pola yang bisa dieksplorasi.\n"
      ],
      "metadata": {
        "id": "Q_5ejIqckiSP"
      }
    },
    {
      "cell_type": "markdown",
      "metadata": {
        "id": "gp-Y6wU38DC1"
      },
      "source": [
        "## Exploratory Data Analysis (EDA)"
      ]
    },
    {
      "cell_type": "markdown",
      "metadata": {
        "id": "MW7WF2kr8DC1"
      },
      "source": [
        "### Explore ..."
      ]
    },
    {
      "cell_type": "code",
      "execution_count": null,
      "metadata": {
        "id": "e9CQCZjk8DC2",
        "outputId": "6383844b-1318-4756-fb6d-80d9d9923c99",
        "colab": {
          "base_uri": "https://localhost:8080/"
        }
      },
      "outputs": [
        {
          "output_type": "stream",
          "name": "stdout",
          "text": [
            "Statistik Deskriptif:\n",
            "               cnt        temp         hum   windspeed\n",
            "count   731.000000  731.000000  731.000000  731.000000\n",
            "mean   4504.348837    0.495385    0.627894    0.190486\n",
            "std    1937.211452    0.183051    0.142429    0.077498\n",
            "min      22.000000    0.059130    0.000000    0.022392\n",
            "25%    3152.000000    0.337083    0.520000    0.134950\n",
            "50%    4548.000000    0.498333    0.626667    0.180975\n",
            "75%    5956.000000    0.655417    0.730209    0.233214\n",
            "max    8714.000000    0.861667    0.972500    0.507463\n",
            "\n",
            "Rata-rata Penyewaan Berdasarkan Cuaca:\n",
            "   weather_desc          cnt\n",
            "0      Berkabut  4035.862348\n",
            "1         Cerah  4876.786177\n",
            "2  Hujan Ringan  1803.285714\n",
            "\n",
            "Rata-rata Penyewaan: Weekday vs Weekend:\n",
            "  is_weekend          cnt\n",
            "0    Weekday  4458.011494\n",
            "1    Weekend  4620.081340\n"
          ]
        }
      ],
      "source": [
        "# Statistik deskriptif\n",
        "print(\"Statistik Deskriptif:\")\n",
        "print(df[['cnt', 'temp', 'hum', 'windspeed']].describe())\n",
        "\n",
        "# Pertanyaan 1: Rata-rata penyewaan berdasarkan cuaca\n",
        "weather_group = df.groupby('weather_desc')['cnt'].mean().reset_index()\n",
        "print(\"\\nRata-rata Penyewaan Berdasarkan Cuaca:\")\n",
        "print(weather_group)\n",
        "\n",
        "# Pertanyaan 2: Rata-rata penyewaan berdasarkan hari\n",
        "day_group = df.groupby('is_weekend')['cnt'].mean().reset_index()\n",
        "print(\"\\nRata-rata Penyewaan: Weekday vs Weekend:\")\n",
        "print(day_group)"
      ]
    },
    {
      "cell_type": "markdown",
      "source": [
        "**Insight:**\n",
        "- Rata-rata penyewaan tertinggi terjadi saat cuaca cerah (misalnya, 4876 sepeda), sedangkan saat hujan rendah/ringan (mungkin 1803). Ini menunjukkan cuaca cerah mendorong lebih banyak penyewaan.\n",
        "- Penyewaan di hari libur sedikit lebih tinggi (misalnya, 4620) dibandingkan hari kerja (4358), mengindikasikan sepeda lebih sering digunakan untuk keperluan  seperti santai dan menikmati liburan."
      ],
      "metadata": {
        "id": "th_Lzl2Fkj9O"
      }
    },
    {
      "cell_type": "markdown",
      "metadata": {
        "id": "zsyZjqak8DC2"
      },
      "source": [
        "## Visualization & Explanatory Analysis"
      ]
    },
    {
      "cell_type": "markdown",
      "metadata": {
        "id": "HZxOiQ6n8DC2"
      },
      "source": [
        "### Pertanyaan 1:"
      ]
    },
    {
      "cell_type": "code",
      "execution_count": null,
      "metadata": {
        "id": "1swJUdAD8DC2",
        "outputId": "872bc9e3-7e9b-437a-b078-7c67f9b0316c",
        "colab": {
          "base_uri": "https://localhost:8080/",
          "height": 594
        }
      },
      "outputs": [
        {
          "output_type": "stream",
          "name": "stderr",
          "text": [
            "<ipython-input-12-e07a1f053763>:2: FutureWarning: \n",
            "\n",
            "Passing `palette` without assigning `hue` is deprecated and will be removed in v0.14.0. Assign the `x` variable to `hue` and set `legend=False` for the same effect.\n",
            "\n",
            "  sns.barplot(x='weather_desc', y='cnt', data=weather_group, palette='Blues_d')\n"
          ]
        },
        {
          "output_type": "display_data",
          "data": {
            "text/plain": [
              "<Figure size 800x500 with 1 Axes>"
            ],
            "image/png": "[encoded data removed]"
          },
          "metadata": {}
        }
      ],
      "source": [
        "plt.figure(figsize=(8, 5))\n",
        "sns.barplot(x='weather_desc', y='cnt', data=weather_group, palette='Blues_d')\n",
        "plt.title('Rata-rata Penyewaan Sepeda Berdasarkan Cuaca')\n",
        "plt.xlabel('Kondisi Cuaca')\n",
        "plt.ylabel('Jumlah Penyewaan (Rata-rata)')\n",
        "plt.show()"
      ]
    },
    {
      "cell_type": "markdown",
      "metadata": {
        "id": "DgHI7CiU8DC2"
      },
      "source": [
        "### Pertanyaan 2:"
      ]
    },
    {
      "cell_type": "code",
      "execution_count": null,
      "metadata": {
        "id": "Go0lCsvO8DC2",
        "outputId": "60d59e25-c8c2-421b-ca78-d6a434f2b897",
        "colab": {
          "base_uri": "https://localhost:8080/",
          "height": 594
        }
      },
      "outputs": [
        {
          "output_type": "stream",
          "name": "stderr",
          "text": [
            "<ipython-input-13-4c8719d480da>:2: FutureWarning: \n",
            "\n",
            "Passing `palette` without assigning `hue` is deprecated and will be removed in v0.14.0. Assign the `x` variable to `hue` and set `legend=False` for the same effect.\n",
            "\n",
            "  sns.barplot(x='is_weekend', y='cnt', data=day_group, palette='Greens_d')\n"
          ]
        },
        {
          "output_type": "display_data",
          "data": {
            "text/plain": [
              "<Figure size 800x500 with 1 Axes>"
            ],
            "image/png": "[encoded data removed]"
          },
          "metadata": {}
        }
      ],
      "source": [
        "plt.figure(figsize=(8, 5))\n",
        "sns.barplot(x='is_weekend', y='cnt', data=day_group, palette='Greens_d')\n",
        "plt.title('Rata-rata Penyewaan Sepeda: Weekday vs Weekend')\n",
        "plt.xlabel('Tipe Hari')\n",
        "plt.ylabel('Jumlah Penyewaan (Rata-rata)')\n",
        "plt.show()"
      ]
    },
    {
      "cell_type": "markdown",
      "source": [
        "**Insight:**\n",
        "- Visualisasi 1:\n",
        "Grafik memperlihatkan tren jelas: penyewaan turun drastis dari cuaca cerah ke hujan ringan, dengan perbedaan signifikan (mungkin ribuan sepeda), menegaskan cuaca sebagai faktor utama.\n",
        "\n",
        "- Visualisasi 2:\n",
        "Grafik menunjukkan selisih kecil antara weekday dan weekend, tapi hari libur konsisten lebih tinggi, mendukung hipotesis penggunaan untuk keperluan harian."
      ],
      "metadata": {
        "id": "_0-36BDLklRg"
      }
    },
    {
      "cell_type": "markdown",
      "source": [
        "## Analisis Lanjutan (Opsional)"
      ],
      "metadata": {
        "id": "9y4VUsmcYNZ5"
      }
    },
    {
      "cell_type": "code",
      "source": [
        "# Analisis Lanjutan\n",
        "# Pertanyaan 3: Korelasi suhu dengan penyewaan\n",
        "temp_correlation = df[['temp', 'cnt']].corr().iloc[0, 1]\n",
        "print(f\"\\nKorelasi antara Suhu dan Penyewaan: {temp_correlation:.2f}\")\n",
        "\n",
        "# Penyewaan berdasarkan bulan (ekstrak bulan dari dteday)\n",
        "df['month'] = df['dteday'].dt.month\n",
        "month_group = df.groupby('month')['cnt'].mean().reset_index()\n",
        "print(\"\\nRata-rata Penyewaan Berdasarkan Bulan:\")\n",
        "print(month_group)\n",
        "\n",
        "# Interaksi cuaca dan hari\n",
        "weather_day_group = df.groupby(['weather_desc', 'is_weekend'])['cnt'].mean().reset_index()\n",
        "print(\"\\nRata-rata Penyewaan Berdasarkan Cuaca dan Hari:\")\n",
        "print(weather_day_group)"
      ],
      "metadata": {
        "id": "iWhnzsJGYUCO",
        "outputId": "6ad1a4f7-f078-4420-f115-400cac0b12b3",
        "colab": {
          "base_uri": "https://localhost:8080/"
        }
      },
      "execution_count": null,
      "outputs": [
        {
          "output_type": "stream",
          "name": "stdout",
          "text": [
            "\n",
            "Korelasi antara Suhu dan Penyewaan: 0.63\n",
            "\n",
            "Rata-rata Penyewaan Berdasarkan Bulan:\n",
            "    month          cnt\n",
            "0       1  2176.338710\n",
            "1       2  2655.298246\n",
            "2       3  3692.258065\n",
            "3       4  4484.900000\n",
            "4       5  5349.774194\n",
            "5       6  5772.366667\n",
            "6       7  5563.677419\n",
            "7       8  5664.419355\n",
            "8       9  5766.516667\n",
            "9      10  5199.225806\n",
            "10     11  4247.183333\n",
            "11     12  3403.806452\n",
            "\n",
            "Rata-rata Penyewaan Berdasarkan Cuaca dan Hari:\n",
            "   weather_desc is_weekend          cnt\n",
            "0      Berkabut    Weekday  4027.046512\n",
            "1      Berkabut    Weekend  4056.080000\n",
            "2         Cerah    Weekday  4818.651652\n",
            "3         Cerah    Weekend  5025.700000\n",
            "4  Hujan Ringan    Weekday  1754.058824\n",
            "5  Hujan Ringan    Weekend  2012.500000\n"
          ]
        }
      ]
    },
    {
      "cell_type": "markdown",
      "source": [
        "**Insight**\n",
        "\n",
        "- Suhu hangat meningkatkan penyewaan, tapi bukan satu-satunya faktor (korelasi tidak 1).\n",
        "\n",
        "- Musim panas adalah periode sibuk; musim dingin perlu strategi khusus.\n",
        "\n",
        "- Fokus pada hari kerja cerah untuk maksimalkan keuntungan."
      ],
      "metadata": {
        "id": "h2oMGmlpEFXH"
      }
    },
    {
      "cell_type": "markdown",
      "metadata": {
        "id": "_WeHlCeX8DC2"
      },
      "source": [
        "## Conclusion"
      ]
    },
    {
      "cell_type": "markdown",
      "metadata": {
        "id": "ZTcyR48Y8DC2"
      },
      "source": [
        "\n",
        "### Kesimpulan Pertanyaan 1: Pengaruh Kondisi Cuaca terhadap Penyewaan Sepeda\n",
        "Berdasarkan analisis data Bike Sharing Dataset (`day.csv`), kondisi cuaca memiliki pengaruh signifikan terhadap rata-rata jumlah penyewaan sepeda per hari. Berikut temuan utama:\n",
        "\n",
        "- **Cuaca Cerah**: Rata-rata penyewaan sepeda mencapai nilai tertinggi saat cuaca cerah (sekitar 4.800-5.000 sepeda per hari berdasarkan hasil `weather_group`). Ini menunjukkan bahwa pengguna lebih cenderung menyewa sepeda dalam kondisi cuaca yang nyaman dan mendukung aktivitas luar ruangan.\n",
        "- **Cuaca Berkabut**: Penyewaan menurun dibandingkan cuaca cerah (sekitar 4.000 sepeda per hari), tetapi masih cukup tinggi, mengindikasikan bahwa kabut tidak terlalu menghalangi pengguna dibandingkan hujan.\n",
        "- **Hujan Ringan**: Penyewaan mencapai titik terendah (di bawah 1.803 sepeda per hari), menegaskan bahwa cuaca seperti hujan ringat sangat menghambat aktivitas penyewaan sepeda.\n",
        "\n",
        "**Insight**: Kondisi cuaca yang baik (cerah) secara konsisten mendorong penyewaan sepeda, sedangkan cuaca buruk (terutama hujan ringan) menjadi penghalang utama. Pola ini terlihat jelas pada visualisasi bar chart, di mana terdapat gradien penurunan yang signifikan dari cuaca cerah ke hujan ringan. Hal ini menunjukkan bahwa cuaca adalah faktor kunci dalam keputusan pengguna untuk menyewa sepeda, dan bisnis penyewaan sepeda dapat memanfaatkan informasi ini untuk strategi seperti promosi saat cuaca buruk atau penyesuaian stok saat cuaca cerah.\n",
        "\n",
        "\n",
        "### Kesimpulan Pertanyaan 2: Penyewaan Sepeda di Hari Kerja vs Akhir Pekan\n",
        "Berdasarkan analisis data Bike Sharing Dataset (`day.csv`), berikut temuan terkait perbandingan penyewaan sepeda antara hari kerja (weekday) dan akhir pekan (weekend):\n",
        "\n",
        "- **Hari Kerja**: Rata-rata penyewaan sepeda di hari kerja sedikit lebih rendah dibandingkan akhir pekan. Berdasarkan hasil analisis, rata-rata penyewaan di hari kerja mencapai sekitar 4.458 sepeda per hari.\n",
        "- **Akhir Pekan**: Rata-rata penyewaan di akhir pekan sedikit lebih tinggi, sekitar 4.620 sepeda per hari.\n",
        "- **Perbedaan**: Selisih antara hari kerja dan akhir pekan tidak terlalu signifikan (sekitar 162 sepeda per hari), tetapi secara konsisten akhir pekan menunjukkan angka lebih tinggi.\n",
        "\n",
        "**Insight**: Berlawanan dengan ekspektasi awal bahwa hari kerja akan lebih tinggi karena commuting, data menunjukkan bahwa penyewaan sepeda lebih tinggi di akhir pekan. Ini kemungkinan disebabkan oleh penggunaan sepeda untuk aktivitas rekreasi atau liburan di hari Sabtu dan Minggu, terutama jika cuaca mendukung. Visualisasi bar chart memperkuat pola ini, dengan batang untuk 'Weekend' sedikit lebih tinggi dibandingkan 'Weekday'. Bagi bisnis, ini menyarankan fokus pada promosi atau penambahan stok sepeda di akhir pekan untuk memanfaatkan permintaan yang lebih besar."
      ]
    }
  ],
  "metadata": {
    "kernelspec": {
      "display_name": "Python 3",
      "language": "python",
      "name": "python3"
    },
    "language_info": {
      "name": "python",
      "version": "3.8.0 (tags/v3.8.0:fa919fd, Oct 14 2019, 19:21:23) [MSC v.1916 32 bit (Intel)]"
    },
    "orig_nbformat": 4,
    "vscode": {
      "interpreter": {
        "hash": "972b3bf27e332e87b5379f2791f6ef9dfc79c71018c370b0d7423235e20fe4d7"
      }
    },
    "colab": {
      "provenance": [],
      "toc_visible": true
    }
  },
  "nbformat": 4,
  "nbformat_minor": 0
}